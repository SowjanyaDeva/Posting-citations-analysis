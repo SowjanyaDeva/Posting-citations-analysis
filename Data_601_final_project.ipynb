{
 "cells": [
  {
   "cell_type": "markdown",
   "metadata": {},
   "source": [
    "## Final Project : NoteBook\n",
    "## Proposal :\n",
    "\n",
    "**The Data 601 Final Project is an analysis of two (or more) data sets to address one or more hypotheses and one or more questions about the combined data.**\n",
    "\n",
    "**DATA SOURCE:** https://umbc.box.com/s/uhqmqlq6lkmfpzzcv8gxsvhtkvek5qq1\n",
    "## Solution :\n",
    "\n",
    "**importing the necessary libraries**"
   ]
  },
  {
   "cell_type": "code",
   "execution_count": null,
   "metadata": {
    "id": "pc90uVFcBSwp"
   },
   "outputs": [],
   "source": [
    "import warnings\n",
    "warnings.filterwarnings('ignore')\n",
    "\n",
    "import pandas as pd\n",
    "import matplotlib.pyplot as plt\n",
    "import seaborn as sns\n",
    "import statsmodels.api as sm"
   ]
  },
  {
   "cell_type": "markdown",
   "metadata": {},
   "source": [
    "**loading datasets**"
   ]
  },
  {
   "cell_type": "code",
   "execution_count": null,
   "metadata": {
    "id": "TaesHlOlBWOz"
   },
   "outputs": [],
   "source": [
    "# reading the 2 datasets\n",
    "main_df = pd.read_excel('6481b945-7549-44e5-a65b-8b8eb8b92c87.xlsx', sheet_name = 'Sheet1')\n",
    "df2 = pd.read_excel('39c00379-17c1-4120-96b7-fa372e26f8f0.xlsx', sheet_name = 'Sheet1')"
   ]
  },
  {
   "cell_type": "markdown",
   "metadata": {
    "id": "BbRtyujAXDan"
   },
   "source": [
    "## Merging two datasets to analyse the combined data"
   ]
  },
  {
   "cell_type": "code",
   "execution_count": null,
   "metadata": {
    "id": "zYqKyQmMBkm6"
   },
   "outputs": [],
   "source": [
    "# combining the 2 datasets using left join i.e., including all Inspection IDs of the main_df\n",
    "data = pd.merge(main_df, df2, how = 'left', on = ['Inspection ID', 'FEI Number', 'Legal Name', 'Inspection End Date'])"
   ]
  },
  {
   "cell_type": "code",
   "execution_count": null,
   "metadata": {
    "colab": {
     "base_uri": "https://localhost:8080/",
     "height": 634
    },
    "id": "kPT_u8mECigs",
    "outputId": "31096193-c669-425b-9549-bda4c1878225"
   },
   "outputs": [],
   "source": [
    "# exploring the top 5 rows of the dataset\n",
    "data.head()"
   ]
  },
  {
   "cell_type": "code",
   "execution_count": null,
   "metadata": {
    "colab": {
     "base_uri": "https://localhost:8080/"
    },
    "id": "GsosybkZNwA9",
    "outputId": "a1b2ec0d-a4be-42db-8a2a-23ef2b46ba54"
   },
   "outputs": [],
   "source": [
    "# exploring the data-types of the dataset\n",
    "data.info()"
   ]
  },
  {
   "cell_type": "markdown",
   "metadata": {
    "id": "d_QTCttqXwBA"
   },
   "source": [
    "**Data Cleaning - Inspection of Missing Values & Treatment**"
   ]
  },
  {
   "cell_type": "code",
   "execution_count": null,
   "metadata": {
    "colab": {
     "base_uri": "https://localhost:8080/"
    },
    "id": "2KKf1txZD6cl",
    "outputId": "f1ae7c3a-a1f0-4269-f253-9abdf314e2eb"
   },
   "outputs": [],
   "source": [
    "(data.isnull().sum(axis = 0)*100)/data.shape[0]"
   ]
  },
  {
   "cell_type": "markdown",
   "metadata": {},
   "source": [
    "**Dropping the columns with missing values as the threshold for missing values used in this analysis is 35%**"
   ]
  },
  {
   "cell_type": "code",
   "execution_count": null,
   "metadata": {
    "id": "JvmclTITEX_5"
   },
   "outputs": [],
   "source": [
    "# dropping the columns with missing values\n",
    "final_df = data.drop(['Program Area', 'Act/CFR Number', 'Short Description', 'Long Description'], axis = 1)"
   ]
  },
  {
   "cell_type": "markdown",
   "metadata": {
    "id": "zdO3uJHia7fQ"
   },
   "source": [
    "## Exploratory Data Analysis"
   ]
  },
  {
   "cell_type": "code",
   "execution_count": null,
   "metadata": {
    "colab": {
     "base_uri": "https://localhost:8080/",
     "height": 497
    },
    "id": "tZnipNaFE2Rk",
    "outputId": "8f97a1f4-2bf3-46ad-c48a-35942ca01b1d"
   },
   "outputs": [],
   "source": [
    "# number of inspections per year (from 2009-2022)\n",
    "\n",
    "inspections_final_df = pd.DataFrame(final_df.groupby('Fiscal Year')['Inspection ID'].count()).reset_index()\n",
    "inspections_final_df.rename({'Inspection ID' : 'Count'}, axis = 1, inplace = True)\n",
    "\n",
    "plt.figure(figsize = (15, 8))\n",
    "sns.lineplot(x = 'Fiscal Year', y = 'Count', data = inspections_final_df)\n",
    "plt.xlabel('Number of Inspections')\n",
    "plt.xticks([year for year in range(min(final_df['Fiscal Year']), max(final_df['Fiscal Year']) + 1)])\n",
    "plt.show()"
   ]
  },
  {
   "cell_type": "markdown",
   "metadata": {
    "id": "fiHwB95GGLQR"
   },
   "source": [
    "*In the year, 2011, there has been the maximum number of inspections*"
   ]
  },
  {
   "cell_type": "code",
   "execution_count": null,
   "metadata": {
    "colab": {
     "base_uri": "https://localhost:8080/",
     "height": 497
    },
    "id": "TcJRIHNREsjR",
    "outputId": "fdf79575-554c-43f6-ece4-15376a331d55"
   },
   "outputs": [],
   "source": [
    "# count distribution of citations posted: 'Yes' or 'No'\n",
    "plt.figure(figsize = (15, 8))\n",
    "sns.countplot(x = 'Posted Citations', data = data)\n",
    "plt.show()"
   ]
  },
  {
   "cell_type": "markdown",
   "metadata": {
    "id": "mg9zRtReJqIn"
   },
   "source": [
    "*Most of the cases have citations being posted*"
   ]
  },
  {
   "cell_type": "code",
   "execution_count": null,
   "metadata": {
    "colab": {
     "base_uri": "https://localhost:8080/",
     "height": 479
    },
    "id": "caXoRzAu8iDg",
    "outputId": "600f3adc-73f2-4dff-b820-b6213f9f833c"
   },
   "outputs": [],
   "source": [
    "classification_df = pd.DataFrame(data.groupby('Classification')['Inspection ID'].count()).reset_index()\n",
    "classification_df.rename({'Inspection ID' : 'Count'}, axis = 1, inplace = True)\n",
    "\n",
    "plt.figure(figsize = (15, 8))\n",
    "plt.pie(classification_df['Count'], labels = classification_df['Classification'], \n",
    "        autopct='%1.1f%%', explode = [0, 0, 0.2], shadow = True)\n",
    "plt.show()"
   ]
  },
  {
   "cell_type": "markdown",
   "metadata": {
    "id": "hb5J8eMO_J7o"
   },
   "source": [
    "*Most of the cases are classified as Voluntary Action Indicated (VAI)*"
   ]
  },
  {
   "cell_type": "markdown",
   "metadata": {},
   "source": [
    "## Questions:"
   ]
  },
  {
   "cell_type": "markdown",
   "metadata": {},
   "source": [
    " **Q1) Does the classification type being VAI affect the decision of citation being posted significantly?**"
   ]
  },
  {
   "cell_type": "code",
   "execution_count": null,
   "metadata": {
    "colab": {
     "base_uri": "https://localhost:8080/",
     "height": 497
    },
    "id": "YHzgtwLJATfs",
    "outputId": "35b5d12a-ba7e-4243-f71d-27e0bf2b88b6"
   },
   "outputs": [],
   "source": [
    "# relationship between classification type and whether citation being posted or not\n",
    "citations_classfication = pd.DataFrame(data.groupby(['Classification', 'Posted Citations'])['Inspection ID'].count()).reset_index()\n",
    "citations_classfication.rename({'Inspection ID' : 'Count'}, axis = 1, inplace = True)\n",
    "\n",
    "plt.figure(figsize = (15, 8))\n",
    "sns.barplot(x = 'Classification', y = 'Count', hue = 'Posted Citations', data = citations_classfication)\n",
    "plt.show()"
   ]
  },
  {
   "cell_type": "markdown",
   "metadata": {
    "id": "rMNCT-dls9i0"
   },
   "source": [
    "**Answer:**\n",
    "\n",
    "*YES*\n",
    "\n",
    "*For cases classified as No Action Indicated (NAI), majority of the cases have no citations posted*\n",
    "\n",
    "*On the other hand, cases classified as Official Action Indicated (OAI) and Voluntary Action Indicated (VAI), majority of the cases have citations being posted*\n",
    "\n"
   ]
  },
  {
   "cell_type": "markdown",
   "metadata": {},
   "source": [
    "**Q2) How does product type being Food/Cosmetics impact the citation posting?**"
   ]
  },
  {
   "cell_type": "code",
   "execution_count": null,
   "metadata": {
    "colab": {
     "base_uri": "https://localhost:8080/",
     "height": 497
    },
    "id": "m3bGJsr9_b9v",
    "outputId": "af42bb1e-0dfd-459f-998b-cddfdd810ccc"
   },
   "outputs": [],
   "source": [
    "product_df = pd.DataFrame(data.groupby('Product Type')['Inspection ID'].count()).reset_index()\n",
    "product_df.rename({'Inspection ID' : 'Count'}, axis = 1, inplace = True)\n",
    "\n",
    "plt.figure(figsize = (15, 8))\n",
    "sns.scatterplot(x = 'Product Type', y = 'Count', data = product_df)\n",
    "plt.show()"
   ]
  },
  {
   "cell_type": "markdown",
   "metadata": {
    "id": "jvf8VZ92_58x"
   },
   "source": [
    "**Answer:**\n",
    "\n",
    "*YES*\n",
    "\n",
    "*Most of the cases are based out of Food/Cosmetics based Products whereas very few cases involve Tobacco products*"
   ]
  },
  {
   "cell_type": "markdown",
   "metadata": {},
   "source": [
    "**Q3) Does maximum products that are Devices being posted a citation?**"
   ]
  },
  {
   "cell_type": "code",
   "execution_count": null,
   "metadata": {
    "colab": {
     "base_uri": "https://localhost:8080/",
     "height": 497
    },
    "id": "4hQEszlRCnBM",
    "outputId": "beb891e3-3f7d-4f3c-87ea-bd4dd60cc5ad"
   },
   "outputs": [],
   "source": [
    "# relationship between product type and whether citation being posted or not\n",
    "citations_producttype = pd.DataFrame(data.groupby(['Product Type', 'Posted Citations'])['Inspection ID'].count()).reset_index()\n",
    "citations_producttype.rename({'Inspection ID' : 'Count'}, axis = 1, inplace = True)\n",
    "\n",
    "plt.figure(figsize = (15, 8))\n",
    "sns.lineplot(x = 'Product Type', y = 'Count', hue = 'Posted Citations', data = citations_producttype)\n",
    "sns.scatterplot(x = 'Product Type', y = 'Count', hue = 'Posted Citations', data = citations_producttype)\n",
    "plt.show()"
   ]
  },
  {
   "cell_type": "markdown",
   "metadata": {
    "id": "EyfQ6SvSd9qJ"
   },
   "source": [
    "**Answer:**\n",
    "\n",
    "*NO*\n",
    "\n",
    "Food/Cosmetics has the majority citations posted\n",
    "\n",
    "1.   For Biologics based product, majority of the cases do not have citations being posted.\n",
    "2.   For Devices, Drugs and Food/Cosmetics based product, majority of the cases have citations being posted.\n",
    "3.   For Tobacco based products, almost equal number of cases have citations posted.\n",
    "4.   For Veterinary based products, slightly higher number cases do not have citations being posted.\n",
    "\n"
   ]
  },
  {
   "cell_type": "markdown",
   "metadata": {
    "id": "FLlugaZvfk6U"
   },
   "source": [
    "### Data Preprocessing"
   ]
  },
  {
   "cell_type": "code",
   "execution_count": null,
   "metadata": {
    "id": "vNfhni8Qv_N-"
   },
   "outputs": [],
   "source": [
    "# selecting the 3 varibles: Classification, Product Type and Posted Citations\n",
    "df_selected = data[['Classification', 'Product Type', 'Posted Citations']]\n",
    "\n",
    "# creating dummy variables for categorical variables, Classification and Product Type\n",
    "df_selected = pd.get_dummies(df_selected, columns=['Classification', 'Product Type'], drop_first=True)\n",
    "\n",
    "# converting the target variable (Posted Citations) into numeric i.e., 'Yes' -> 1, 'No' -> 0\n",
    "df_selected['Posted Citations'] = df_selected['Posted Citations'].map({'No': 0, 'Yes': 1})"
   ]
  },
  {
   "cell_type": "markdown",
   "metadata": {
    "id": "fP36tcPvHdzi"
   },
   "source": [
    "## Hypothesis\n",
    "\n",
    "### 1st Hypothesis\n",
    "\n",
    "**Null Hypothesis**: *Citation Posting does NOT depend significantly on Classification being Voluntary Action Indicated (VAI)*\n",
    "\n",
    "**Alternate Hypothesis**: *Citation Posting does depend significantly on Classification being Voluntary Action Indicated (VAI)*\n",
    "\n",
    "*The Hypothesis Testing is done by applying z-test (with 5% Significance Level) on the Logistic Regression estimated feature coefficients for predicting whether Citations have been posted, given the Classification type being VAI*"
   ]
  },
  {
   "cell_type": "code",
   "execution_count": null,
   "metadata": {
    "colab": {
     "base_uri": "https://localhost:8080/"
    },
    "id": "fGoerUz6NPPK",
    "outputId": "40dcf862-a45c-406b-db88-a5674940f03a"
   },
   "outputs": [],
   "source": [
    "# executing the logistic regression model\n",
    "y_train = df_selected['Posted Citations']\n",
    "X_train = df_selected['Classification_Voluntary Action Indicated (VAI)']\n",
    "\n",
    "lr_model = sm.GLM(y_train, sm.add_constant(X_train), family = sm.families.Binomial()).fit()\n",
    "print(lr_model.summary())"
   ]
  },
  {
   "cell_type": "markdown",
   "metadata": {
    "id": "cVF9-2mhkr-S"
   },
   "source": [
    "\n",
    "\n",
    "\n",
    "The p-Value associated with the coefficient of the dummy variable, **Classification_Voluntary Action Indicated (VAI)** of Classification is 0, which is less than 0.05, hence, citation being posted or not SIGNIFICANTLY depends on the Classification type being VAI or not. (*Null Hypothesis rejected at 5% Significance*)\n",
    "\n"
   ]
  },
  {
   "cell_type": "markdown",
   "metadata": {
    "id": "5jgbUuyJB_2a"
   },
   "source": [
    "### 2nd Hypothesis\n",
    "\n",
    "**Null Hypothesis**: *Citation Posting does NOT depend significantly on Product Type being Food/Cosmetics*\n",
    "\n",
    "**Alternate Hypothesis**: *Citation Posting does depend significantly on Product Type being Food/Cosmetics*\n"
   ]
  },
  {
   "cell_type": "markdown",
   "metadata": {
    "id": "2UFgVmdgC5gB"
   },
   "source": [
    "*The Hypothesis Testing is done by applying z-test (with 5% Significance Level) on the Logistic Regression estimated feature coefficients for predicting whether Citations have been posted, given the Product Type type being Food/Cosmetics*"
   ]
  },
  {
   "cell_type": "code",
   "execution_count": null,
   "metadata": {
    "colab": {
     "base_uri": "https://localhost:8080/"
    },
    "id": "vqI4NxVUC3js",
    "outputId": "e634304e-7616-4f03-d547-99ed2ca294ee"
   },
   "outputs": [],
   "source": [
    "# executing the logistic regression model\n",
    "y_train = df_selected['Posted Citations']\n",
    "X_train = df_selected['Product Type_Food/Cosmetics']\n",
    "\n",
    "lr_model = sm.GLM(y_train, sm.add_constant(X_train), family = sm.families.Binomial()).fit()\n",
    "print(lr_model.summary())"
   ]
  },
  {
   "cell_type": "markdown",
   "metadata": {
    "id": "_-lIHMnsDnFI"
   },
   "source": [
    "The p-Value associated with the coefficient of the dummy variable, **Product Type_Food/Cosmetics** of Classification is 0, which is less than 0.05, hence, citation being posted or not SIGNIFICANTLY depends on the Product Type being Food/Cosmetics or not. (*Null Hypothesis rejected at 5% Significance*)"
   ]
  },
  {
   "cell_type": "markdown",
   "metadata": {
    "id": "z46622xIED83"
   },
   "source": [
    "### 3rd Hypothesis\n",
    "\n",
    "**Null Hypothesis**: *Citation Posting does NOT depend significantly on Product Type being Devices*\n",
    "\n",
    "**Alternate Hypothesis**: *Citation Posting does depend significantly on Product Type being Devices*\n"
   ]
  },
  {
   "cell_type": "markdown",
   "metadata": {
    "id": "PQ2zZNXlEUFY"
   },
   "source": [
    "*The Hypothesis Testing is done by applying z-test (with 5% Significance Level) on the Logistic Regression estimated feature coefficients for predicting whether Citations have been posted, given the Product Type type being Devices*"
   ]
  },
  {
   "cell_type": "code",
   "execution_count": null,
   "metadata": {
    "colab": {
     "base_uri": "https://localhost:8080/"
    },
    "id": "1mxyHbDgEDig",
    "outputId": "5cedf5b5-2d8c-4476-8ce5-a7d71b04c089"
   },
   "outputs": [],
   "source": [
    "# executing the logistic regression model\n",
    "y_train = df_selected['Posted Citations']\n",
    "X_train = df_selected['Product Type_Devices']\n",
    "\n",
    "lr_model = sm.GLM(y_train, sm.add_constant(X_train), family = sm.families.Binomial()).fit()\n",
    "print(lr_model.summary())"
   ]
  },
  {
   "cell_type": "markdown",
   "metadata": {
    "id": "qtaism1qEc_R"
   },
   "source": [
    "The p-Value associated with the coefficient of the dummy variable, **Product Type_Devices** of Classification is 0, which is less than 0.05, hence, citation being posted or not SIGNIFICANTLY depends on the Product Type being Devices or not. (*Null Hypothesis rejected at 5% Significance*)"
   ]
  }
 ],
 "metadata": {
  "colab": {
   "collapsed_sections": [],
   "name": "Task_Analytics_updated_questions.ipynb",
   "provenance": []
  },
  "kernelspec": {
   "display_name": "Python 3 (ipykernel)",
   "language": "python",
   "name": "python3"
  },
  "language_info": {
   "codemirror_mode": {
    "name": "ipython",
    "version": 3
   },
   "file_extension": ".py",
   "mimetype": "text/x-python",
   "name": "python",
   "nbconvert_exporter": "python",
   "pygments_lexer": "ipython3",
   "version": "3.9.7"
  }
 },
 "nbformat": 4,
 "nbformat_minor": 1
}
